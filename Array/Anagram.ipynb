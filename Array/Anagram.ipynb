{
 "cells": [
  {
   "cell_type": "code",
   "execution_count": null,
   "metadata": {},
   "outputs": [],
   "source": [
    "#in this document four version of anagram is implemented. anagram1, anagram2, anagram3"
   ]
  },
  {
   "cell_type": "code",
   "execution_count": 90,
   "metadata": {},
   "outputs": [
    {
     "data": {
      "text/plain": [
       "'\\nanagram1: uses Sorted biult-in function.\\nanagram2: uses array to count each string chars ans then compare them\\nanagram3: uses dictionary (hash)\\n'"
      ]
     },
     "execution_count": 90,
     "metadata": {},
     "output_type": "execute_result"
    }
   ],
   "source": [
    "\"\"\"\n",
    "anagram1: uses Sorted biult-in function.\n",
    "anagram2: uses array to count each string chars ans then compare them\n",
    "anagram3: uses dictionary (hash)\n",
    "\"\"\""
   ]
  },
  {
   "cell_type": "code",
   "execution_count": 71,
   "metadata": {},
   "outputs": [
    {
     "name": "stdout",
     "output_type": "stream",
     "text": [
      "ALL TEST CASES PASSED\n"
     ]
    }
   ],
   "source": [
    "\"\"\"\n",
    "RUN THIS CELL TO TEST YOUR SOLUTION\n",
    "\"\"\"\n",
    "from nose.tools import assert_equal\n",
    "\n",
    "class AnagramTest(object):\n",
    "    \n",
    "    def test(self,sol):\n",
    "        assert_equal(sol('go go go','gggooo'),True)\n",
    "        assert_equal(sol('abc','cba'),True)\n",
    "        assert_equal(sol('hi man','hi     man'),True)\n",
    "        assert_equal(sol('aabbcc','aabbc'),False)\n",
    "        assert_equal(sol('123','1 2'),False)\n",
    "        print (\"ALL TEST CASES PASSED\")\n",
    "\n",
    "# Run Tests\n",
    "t = AnagramTest()\n",
    "t.test(anagram)"
   ]
  },
  {
   "cell_type": "code",
   "execution_count": 84,
   "metadata": {},
   "outputs": [],
   "source": [
    "def anagram1(s1, s2): #using sort function\n",
    "    s1=s1.replace(\" \",\"\").upper()\n",
    "    s2=s2.replace(\" \",\"\").upper()\n",
    "    return sorted(s1)==sorted(s2)"
   ]
  },
  {
   "cell_type": "code",
   "execution_count": 85,
   "metadata": {},
   "outputs": [
    {
     "name": "stdout",
     "output_type": "stream",
     "text": [
      "ALL TEST CASES PASSED\n"
     ]
    }
   ],
   "source": [
    "t.test(anagram1)"
   ]
  },
  {
   "cell_type": "code",
   "execution_count": 82,
   "metadata": {},
   "outputs": [],
   "source": [
    "# in this version first implementation using only array O(n)\n",
    "def anagram2(s1,s2):\n",
    "    \n",
    "    s1=s1.replace(\" \",\"\").upper()#remove space and change to uppercase\n",
    "    s2=s2.replace(\" \",\"\").upper()\n",
    "    \n",
    "    if (len(s1)!=len(s2)): #check edge case\n",
    "        return False\n",
    "    if (s1==\"\" and s2==\"\"):# case of both empty strings => anagram\n",
    "        return True\n",
    "    if ((s1!=\"\" and s2==\"\") or(s1==\"\" and s2!=\"\")): #case of one string is empty but not both => not anagram\n",
    "        return False\n",
    "    \n",
    "    list_s1=[]\n",
    "    list_s2=[]\n",
    "    \n",
    "    for i in range(256):\n",
    "        list_s1.append(0)# set count of all char to zeros\n",
    "        list_s2.append(0)\n",
    "        \n",
    "    #counting number of chars in the strings\n",
    "    for i in range(len(s1)):\n",
    "        ch=s1[i]\n",
    "        asci_ch= ord(ch)\n",
    "        list_s1[asci_ch]+=1\n",
    "        ch=s2[i]\n",
    "        asci_ch= ord(ch)\n",
    "        list_s2[asci_ch]+=1\n",
    "        \n",
    "    for i in range(256):\n",
    "        if list_s1[i] != list_s2[i]:\n",
    "            return False\n",
    "    return True\n",
    "    \n",
    "        \n"
   ]
  },
  {
   "cell_type": "code",
   "execution_count": 83,
   "metadata": {},
   "outputs": [
    {
     "name": "stdout",
     "output_type": "stream",
     "text": [
      "ALL TEST CASES PASSED\n"
     ]
    }
   ],
   "source": [
    "t.test(anagram2)"
   ]
  },
  {
   "cell_type": "code",
   "execution_count": 86,
   "metadata": {},
   "outputs": [],
   "source": [
    "def anagram3(s1,s2): #using dictionary\n",
    "    s1=s1.replace(\" \",\"\").upper()\n",
    "    s2=s2.replace(\" \",\"\").upper()\n",
    "    #Check edge cases\n",
    "    if len(s1)!=len(s2):\n",
    "        return False\n",
    "    \n",
    "    count={}\n",
    "    \n",
    "    for let in s1:\n",
    "        if let in count:\n",
    "            count[let]+=1\n",
    "        else:\n",
    "            count[let]=1\n",
    "    \n",
    "    for let in s2:\n",
    "        if let in count:\n",
    "            count[let]-=1\n",
    "        else: \n",
    "            return False\n",
    "            \n",
    "    \n",
    "    for let in count:\n",
    "        if count[let]!=0:\n",
    "            return False\n",
    "    return True\n",
    "        \n",
    "    "
   ]
  },
  {
   "cell_type": "code",
   "execution_count": 87,
   "metadata": {},
   "outputs": [
    {
     "name": "stdout",
     "output_type": "stream",
     "text": [
      "ALL TEST CASES PASSED\n"
     ]
    }
   ],
   "source": [
    "t.test(anagram3)"
   ]
  },
  {
   "cell_type": "code",
   "execution_count": null,
   "metadata": {},
   "outputs": [],
   "source": []
  },
  {
   "cell_type": "code",
   "execution_count": null,
   "metadata": {},
   "outputs": [],
   "source": []
  },
  {
   "cell_type": "code",
   "execution_count": null,
   "metadata": {},
   "outputs": [],
   "source": []
  }
 ],
 "metadata": {
  "kernelspec": {
   "display_name": "Python 3",
   "language": "python",
   "name": "python3"
  },
  "language_info": {
   "codemirror_mode": {
    "name": "ipython",
    "version": 3
   },
   "file_extension": ".py",
   "mimetype": "text/x-python",
   "name": "python",
   "nbconvert_exporter": "python",
   "pygments_lexer": "ipython3",
   "version": "3.6.5"
  }
 },
 "nbformat": 4,
 "nbformat_minor": 2
}
