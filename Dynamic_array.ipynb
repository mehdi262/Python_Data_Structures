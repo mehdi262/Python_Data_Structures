{
 "cells": [
  {
   "cell_type": "code",
   "execution_count": 1,
   "metadata": {},
   "outputs": [],
   "source": [
    "import sys"
   ]
  },
  {
   "cell_type": "code",
   "execution_count": 5,
   "metadata": {},
   "outputs": [
    {
     "name": "stdout",
     "output_type": "stream",
     "text": [
      "array lenght is 0, actuall size is 64\n",
      "array lenght is 1, actuall size is 96\n",
      "array lenght is 2, actuall size is 96\n",
      "array lenght is 3, actuall size is 96\n",
      "array lenght is 4, actuall size is 96\n",
      "array lenght is 5, actuall size is 128\n",
      "array lenght is 6, actuall size is 128\n",
      "array lenght is 7, actuall size is 128\n",
      "array lenght is 8, actuall size is 128\n",
      "array lenght is 9, actuall size is 192\n"
     ]
    }
   ],
   "source": [
    "n=10\n",
    "data=[]\n",
    "for i in range (n):\n",
    "    a=len(data)\n",
    "    b=sys.getsizeof(data)\n",
    "    print('array lenght is {0}, actuall size is {1}'.format(a,b))\n",
    "    data.append(i)\n"
   ]
  },
  {
   "cell_type": "code",
   "execution_count": 31,
   "metadata": {},
   "outputs": [],
   "source": [
    "## To implement a dynamic array:\n",
    "#1- One has to implement a class with following specifications:\n",
    "#1.1 Default constructor: create a dynamic array lenght 1\n",
    "#1.2 len: return array len\n",
    "#1.3 getItem: return item in index k\n",
    "#1.4 append: add a new item at the end of the list\n",
    "#1.5\n",
    "import ctypes\n",
    "class DynamicArray(object):\n",
    "    '''\n",
    "    DYNAMIC ARRAY CLASS (Similar to Python List)\n",
    "    '''\n",
    "\n",
    "    def __init__(self):\n",
    "        \"\"\"\n",
    "        define the constructor\n",
    "        \"\"\"\n",
    "        self.n=0 # count actuall elements in the array. Default value is 0\n",
    "        self.capacity=1 # Default capacity is 1\n",
    "        self.A= self.makeArray(self.capacity)\n",
    "\n",
    "    def __len__(self):\n",
    "        \"\"\"\n",
    "        Return number of elements sorted in array\n",
    "        \"\"\"\n",
    "        return self.n\n",
    "    \n",
    "    def __getitem__(self,k):\n",
    "        \"\"\"\n",
    "        return element at index k\n",
    "        \"\"\"\n",
    "        if not 0<= k <self.n: # Check it k index is in bounds of array\n",
    "            return IndexError(\"given index is out of the array's bounds\")\n",
    "        return self.A[k]#Retrieve from array at index k\n",
    "    \n",
    "    \n",
    "    def append(self, element):\n",
    "        \"\"\"\n",
    "        Add element to end of the array\n",
    "        \"\"\"\n",
    "        if  self.n == self.capacity:\n",
    "            self._resize(2*self.capacity) #Double capacity if not enough room\n",
    "        self.A[self.n]=element  #Set self.n index to element\n",
    "        self.n+=1\n",
    "    \n",
    "    def _resize( self, new_cap):\n",
    "        \"\"\"\n",
    "        Resize internal array to capacity new_cap\n",
    "        \"\"\"\n",
    "        B= self.makeArray(new_cap) # define a new array with the new_cap capacity\n",
    "        for i in range(self.n):\n",
    "            B[i]= self.A[i] # copy from A to the bigger array B\n",
    "        self.A=B\n",
    "        self.capacity= new_cap\n",
    "    def makeArray(self,new_cap):\n",
    "        \"\"\"\n",
    "        Returns a new array with new_cap capacity\n",
    "        \"\"\"\n",
    "        return (new_cap * ctypes.py_object)()"
   ]
  },
  {
   "cell_type": "code",
   "execution_count": 32,
   "metadata": {},
   "outputs": [],
   "source": [
    "my_arr=DynamicArray()"
   ]
  },
  {
   "cell_type": "code",
   "execution_count": 33,
   "metadata": {},
   "outputs": [],
   "source": [
    "my_arr.append(3)"
   ]
  },
  {
   "cell_type": "code",
   "execution_count": 34,
   "metadata": {},
   "outputs": [
    {
     "data": {
      "text/plain": [
       "1"
      ]
     },
     "execution_count": 34,
     "metadata": {},
     "output_type": "execute_result"
    }
   ],
   "source": [
    "len(my_arr)"
   ]
  },
  {
   "cell_type": "code",
   "execution_count": 35,
   "metadata": {},
   "outputs": [],
   "source": [
    "my_arr.append(12)"
   ]
  },
  {
   "cell_type": "code",
   "execution_count": 36,
   "metadata": {},
   "outputs": [
    {
     "data": {
      "text/plain": [
       "2"
      ]
     },
     "execution_count": 36,
     "metadata": {},
     "output_type": "execute_result"
    }
   ],
   "source": [
    "len(my_arr)"
   ]
  },
  {
   "cell_type": "code",
   "execution_count": 37,
   "metadata": {},
   "outputs": [],
   "source": [
    "my_arr.append(21)"
   ]
  },
  {
   "cell_type": "code",
   "execution_count": 38,
   "metadata": {},
   "outputs": [
    {
     "data": {
      "text/plain": [
       "3"
      ]
     },
     "execution_count": 38,
     "metadata": {},
     "output_type": "execute_result"
    }
   ],
   "source": [
    "len(my_arr)"
   ]
  },
  {
   "cell_type": "code",
   "execution_count": 39,
   "metadata": {},
   "outputs": [
    {
     "data": {
      "text/plain": [
       "21"
      ]
     },
     "execution_count": 39,
     "metadata": {},
     "output_type": "execute_result"
    }
   ],
   "source": [
    "my_arr[2]"
   ]
  },
  {
   "cell_type": "code",
   "execution_count": null,
   "metadata": {},
   "outputs": [],
   "source": []
  }
 ],
 "metadata": {
  "kernelspec": {
   "display_name": "Python 3",
   "language": "python",
   "name": "python3"
  },
  "language_info": {
   "codemirror_mode": {
    "name": "ipython",
    "version": 3
   },
   "file_extension": ".py",
   "mimetype": "text/x-python",
   "name": "python",
   "nbconvert_exporter": "python",
   "pygments_lexer": "ipython3",
   "version": "3.6.5"
  }
 },
 "nbformat": 4,
 "nbformat_minor": 2
}
